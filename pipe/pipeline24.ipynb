{
 "cells": [
  {
   "cell_type": "code",
   "execution_count": 1,
   "id": "0744a76b-0cb3-4eb4-941d-d88c8a652252",
   "metadata": {},
   "outputs": [
    {
     "name": "stdout",
     "output_type": "stream",
     "text": [
      "create pipeline24\n"
     ]
    }
   ],
   "source": [
    "print('create pipeline24')"
   ]
  },
  {
   "cell_type": "code",
   "execution_count": null,
   "id": "1303442f-9dc1-41a6-b163-0e8f020592cc",
   "metadata": {},
   "outputs": [],
   "source": []
  }
 ],
 "metadata": {
  "kernelspec": {
   "display_name": "Python 3 (ipykernel)",
   "language": "python",
   "name": "python3"
  },
  "language_info": {
   "codemirror_mode": {
    "name": "ipython",
    "version": 3
   },
   "file_extension": ".py",
   "mimetype": "text/x-python",
   "name": "python",
   "nbconvert_exporter": "python",
   "pygments_lexer": "ipython3",
   "version": "3.8.10"
  }
 },
 "nbformat": 4,
 "nbformat_minor": 5
}
